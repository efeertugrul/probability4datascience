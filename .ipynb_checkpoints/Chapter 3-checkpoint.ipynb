{
 "cells": [
  {
   "cell_type": "markdown",
   "id": "153a52c8-ee86-419a-98f7-8ac8037d90a4",
   "metadata": {},
   "source": [
    "### Expectation = Mean of Probability Mass Function\n",
    "The probability mass function (PMF) of a random variable X is a\n",
    "function which specifies the probability of obtaining a number X(ξ) = x. \n",
    "\n",
    "We denote a PMF as p_x(x) = P[X = x]"
   ]
  },
  {
   "cell_type": "code",
   "execution_count": 2,
   "id": "7a65d1b2-310f-434b-b663-9b75eb5668ef",
   "metadata": {},
   "outputs": [
    {
     "data": {
      "image/png": "[encoded data removed]",
      "text/plain": [
       "<Figure size 432x288 with 1 Axes>"
      ]
     },
     "metadata": {
      "needs_background": "light"
     },
     "output_type": "display_data"
    },
    {
     "name": "stdout",
     "output_type": "stream",
     "text": [
      "1.0\n"
     ]
    }
   ],
   "source": [
    "import numpy as np\n",
    "import matplotlib.pyplot as plt\n",
    "\n",
    "def encrypt(t):\n",
    "    chars = list(t)\n",
    "    allowed_characters = list(\"abcdefghijklmnopqrstuvwxyz\")\n",
    "    mapped = []\n",
    "    for char in chars:\n",
    "        if char in allowed_characters:      \n",
    "            mapped.append(allowed_characters.index(char))\n",
    "    return mapped\n",
    "\n",
    "def alpha_freqs(unique_elements, counts, n_alpha = 26):\n",
    "    frequencies = np.zeros(26)\n",
    "    for i in unique_elements:\n",
    "        frequencies[i] = counts[np.where(unique_elements == i)]\n",
    "    return frequencies\n",
    "\n",
    "with open('./files/lorem_ipsum.txt', 'r') as file:\n",
    "    data = file.read().replace('\\n', '').lower()\n",
    "    \n",
    "\n",
    "data = np.array(encrypt(data))\n",
    "unique_elements, counts = np.unique(data, return_counts=True)\n",
    "f = alpha_freqs(unique_elements, counts)\n",
    "n = np.arange(len('abcdefghijklmnopqrstuvwxyz'))\n",
    "plt.bar(n, f/len(data))\n",
    "ntag = ['a','b','c','d','e','f','g','h','i','j','k','l','m',\n",
    "'n','o','p','q','r','s','t','u','v','w','x','y','z']\n",
    "plt.xticks(n, ntag)\n",
    "plt.show()\n",
    "print(np.sum(f/len(data)))"
   ]
  },
  {
   "cell_type": "code",
   "execution_count": null,
   "id": "cdb8f4fe-57a5-4881-aca0-2c91519c0e37",
   "metadata": {},
   "outputs": [],
   "source": []
  }
 ],
 "metadata": {
  "kernelspec": {
   "display_name": "Python 3 (ipykernel)",
   "language": "python",
   "name": "python3"
  },
  "language_info": {
   "codemirror_mode": {
    "name": "ipython",
    "version": 3
   },
   "file_extension": ".py",
   "mimetype": "text/x-python",
   "name": "python",
   "nbconvert_exporter": "python",
   "pygments_lexer": "ipython3",
   "version": "3.8.10"
  }
 },
 "nbformat": 4,
 "nbformat_minor": 5
}

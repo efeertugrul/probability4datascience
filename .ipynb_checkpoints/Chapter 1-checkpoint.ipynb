{
 "cells": [
  {
   "cell_type": "code",
   "execution_count": 1,
   "id": "3acac989-53aa-423a-8697-f5f2102c3e36",
   "metadata": {},
   "outputs": [],
   "source": [
    "import numpy as np\n",
    "import matplotlib.pyplot as plt"
   ]
  },
  {
   "cell_type": "code",
   "execution_count": 2,
   "id": "59fe2c96-f889-433a-80f1-94e51e13170e",
   "metadata": {},
   "outputs": [
    {
     "data": {
      "text/plain": [
       "<BarContainer object of 9 artists>"
      ]
     },
     "execution_count": 2,
     "metadata": {},
     "output_type": "execute_result"
    },
    {
     "data": {
      "image/png": "[encoded data removed]",
      "text/plain": [
       "<Figure size 432x288 with 1 Axes>"
      ]
     },
     "metadata": {
      "needs_background": "light"
     },
     "output_type": "display_data"
    }
   ],
   "source": [
    "#generating a geometric sequence\n",
    "p = .5\n",
    "n = np.arange(1,10)\n",
    "X = np.power(p,n)\n",
    "plt.bar(n, X)"
   ]
  },
  {
   "cell_type": "code",
   "execution_count": 3,
   "id": "7a811ac4-7d34-4411-894e-21f8e34d765e",
   "metadata": {},
   "outputs": [
    {
     "data": {
      "text/plain": [
       "<BarContainer object of 19 artists>"
      ]
     },
     "execution_count": 3,
     "metadata": {},
     "output_type": "execute_result"
    },
    {
     "data": {
      "image/png": "[encoded data removed]",
      "text/plain": [
       "<Figure size 432x288 with 1 Axes>"
      ]
     },
     "metadata": {
      "needs_background": "light"
     },
     "output_type": "display_data"
    }
   ],
   "source": [
    "#probability of getting head in the n-th attempt\n",
    "\n",
    "p = .5\n",
    "n = np.arange(1, 20)\n",
    "X = np.power(p,n)\n",
    "cumulative_sum = np.cumsum(X, axis=0)\n",
    "plt.bar(n, cumulative_sum)"
   ]
  },
  {
   "cell_type": "code",
   "execution_count": 4,
   "id": "dbb10ea2-ccb7-49f1-9aa7-3bdc432503e6",
   "metadata": {},
   "outputs": [
    {
     "name": "stdout",
     "output_type": "stream",
     "text": [
      "1.25\n"
     ]
    }
   ],
   "source": [
    "#sum of a finite geometric series of power n\n",
    "# for 0 <= r < 1 and r != 1\n",
    "n = 1000\n",
    "r = 0.2\n",
    "total = (1-(r**(n+1)))/(1-r)\n",
    "print(total)"
   ]
  },
  {
   "cell_type": "code",
   "execution_count": 5,
   "id": "7b3a3db3-a6ac-46b3-ba70-eff10d740868",
   "metadata": {},
   "outputs": [
    {
     "data": {
      "text/plain": [
       "<BarContainer object of 30 artists>"
      ]
     },
     "execution_count": 5,
     "metadata": {},
     "output_type": "execute_result"
    },
    {
     "data": {
      "image/png": "[encoded data removed]",
      "text/plain": [
       "<Figure size 432x288 with 1 Axes>"
      ]
     },
     "metadata": {
      "needs_background": "light"
     },
     "output_type": "display_data"
    }
   ],
   "source": [
    "n = np.arange(0,30)\n",
    "X = np.power(r,n)\n",
    "cumulative_sum = np.cumsum(X,axis=0)\n",
    "plt.bar(n, cumulative_sum)"
   ]
  },
  {
   "cell_type": "code",
   "execution_count": 10,
   "id": "d9afc09e-aa74-4ce3-9bbb-40fcdfef2988",
   "metadata": {},
   "outputs": [
    {
     "name": "stdout",
     "output_type": "stream",
     "text": [
      "1.25\n"
     ]
    }
   ],
   "source": [
    "#sum of infinite geometric series \n",
    "# for 0 <= r < 1 and r != 1\n",
    "r = 0.2\n",
    "total = 1/(1-r)\n",
    "print(total)"
   ]
  },
  {
   "cell_type": "code",
   "execution_count": 11,
   "id": "181ed9c3-eb4b-4bc0-9a3c-11934b52c553",
   "metadata": {},
   "outputs": [
    {
     "data": {
      "text/plain": [
       "<BarContainer object of 2000 artists>"
      ]
     },
     "execution_count": 11,
     "metadata": {},
     "output_type": "execute_result"
    },
    {
     "data": {
      "image/png": "[encoded data removed]",
      "text/plain": [
       "<Figure size 432x288 with 1 Axes>"
      ]
     },
     "metadata": {
      "needs_background": "light"
     },
     "output_type": "display_data"
    }
   ],
   "source": [
    "n = np.arange(0,2000)\n",
    "X = np.power(r,n)\n",
    "cumulative_sum = np.cumsum(X,axis=0)\n",
    "plt.bar(n, cumulative_sum)"
   ]
  },
  {
   "cell_type": "code",
   "execution_count": 8,
   "id": "ea7dca11-4d31-4dee-a428-f01145baea44",
   "metadata": {},
   "outputs": [
    {
     "name": "stdout",
     "output_type": "stream",
     "text": [
      "2.0\n"
     ]
    }
   ],
   "source": [
    "#Excercise 1.1\n",
    "# compute infinite series of 1/(2^k)\n",
    "\n",
    "r = 1/2\n",
    "total = 1/(1-r)\n",
    "print(total)"
   ]
  },
  {
   "cell_type": "code",
   "execution_count": 18,
   "id": "364eceb0-1abd-4c30-a506-88cfff536704",
   "metadata": {},
   "outputs": [
    {
     "name": "stdout",
     "output_type": "stream",
     "text": [
      "0.7499999999999998\n"
     ]
    },
    {
     "data": {
      "text/plain": [
       "<BarContainer object of 99 artists>"
      ]
     },
     "execution_count": 18,
     "metadata": {},
     "output_type": "execute_result"
    },
    {
     "data": {
      "image/png": "[encoded data removed]",
      "text/plain": [
       "<Figure size 432x288 with 1 Axes>"
      ]
     },
     "metadata": {
      "needs_background": "light"
     },
     "output_type": "display_data"
    }
   ],
   "source": [
    "#Excercise 1.2\n",
    "#Compute Infinite sum of k*(1/3^k): k=1 to k-> inf\n",
    "\n",
    "r = 1/3\n",
    "n = np.arange(1, 100)\n",
    "X = np.power(r,n) * n\n",
    "cumulative_sum = np.cumsum(X, axis=0)\n",
    "print(cumulative_sum[-1])\n",
    "plt.bar(n,cumulative_sum)"
   ]
  },
  {
   "cell_type": "code",
   "execution_count": 9,
   "id": "a8d2e270-dff3-4555-9880-3d58d647686e",
   "metadata": {},
   "outputs": [],
   "source": [
    "#Binomial Series\n",
    "# 1 head in 3 tosses P[H, T, T] + P[T, H, T] + P[T, T, H]\n",
    "# number of combinations for 1 head 2 tails = C(3,1)\n",
    "\n",
    "  "
   ]
  },
  {
   "cell_type": "code",
   "execution_count": 19,
   "id": "60cac6d8-939c-459a-a2b0-e80e62f78289",
   "metadata": {},
   "outputs": [],
   "source": [
    "def factorial(n):\n",
    "    if n in [0, 1]:\n",
    "        return 1\n",
    "    else:\n",
    "        return n*factorial(n-1)"
   ]
  },
  {
   "cell_type": "code",
   "execution_count": 20,
   "id": "fc72fad7-1116-4c3e-a37e-b4017213401e",
   "metadata": {},
   "outputs": [],
   "source": [
    "def combination(n, k):\n",
    "    result = factorial(n)/(factorial(k)*(factorial(n-k)))\n",
    "    return result"
   ]
  },
  {
   "cell_type": "code",
   "execution_count": 46,
   "id": "f0f7a8cb-3ede-467e-a936-d7cc1b1633f0",
   "metadata": {},
   "outputs": [
    {
     "name": "stdout",
     "output_type": "stream",
     "text": [
      "10 choose 2 = 45.0\n",
      "2! = 2.0\n"
     ]
    }
   ],
   "source": [
    "from scipy.special import comb, factorial\n",
    "\n",
    "n = 10\n",
    "k = 2\n",
    "c = comb(n, k)\n",
    "f = factorial(k)\n",
    "\n",
    "print(\"{n} choose {k} = {c}\".format(n= n, k=k, c=c))\n",
    "print(\"{k}! = {f}\".format(k=k, f=f))"
   ]
  },
  {
   "cell_type": "code",
   "execution_count": null,
   "id": "29246589-bb14-43be-9708-116cd1ca5d39",
   "metadata": {},
   "outputs": [],
   "source": []
  }
 ],
 "metadata": {
  "kernelspec": {
   "display_name": "Python 3 (ipykernel)",
   "language": "python",
   "name": "python3"
  },
  "language_info": {
   "codemirror_mode": {
    "name": "ipython",
    "version": 3
   },
   "file_extension": ".py",
   "mimetype": "text/x-python",
   "name": "python",
   "nbconvert_exporter": "python",
   "pygments_lexer": "ipython3",
   "version": "3.8.10"
  }
 },
 "nbformat": 4,
 "nbformat_minor": 5
}

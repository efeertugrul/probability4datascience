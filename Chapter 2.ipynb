{
 "cells": [
  {
   "cell_type": "code",
   "execution_count": 7,
   "id": "4dfcfcd8-2bc6-4cad-802e-c74f166a8f14",
   "metadata": {},
   "outputs": [
    {
     "name": "stdout",
     "output_type": "stream",
     "text": [
      "{frozenset({1, 2}), frozenset({'orange', 'apple'})}\n",
      "{1, 2, 'orange', 'apple'}\n"
     ]
    }
   ],
   "source": [
    "#Example 2.5\n",
    "\n",
    "A = frozenset({1,2})\n",
    "B = frozenset({'apple', 'orange'})\n",
    "C = {A, B}\n",
    "print(C)"
   ]
  },
  {
   "cell_type": "code",
   "execution_count": 10,
   "id": "ba7d3a5c-16bd-491b-8db3-24c5892510b6",
   "metadata": {},
   "outputs": [
    {
     "name": "stdout",
     "output_type": "stream",
     "text": [
      "{frozenset({3}), frozenset({1, 2})}\n",
      "True\n"
     ]
    }
   ],
   "source": [
    "#Example 2.6\n",
    "\n",
    "A = frozenset({1,2})\n",
    "B = frozenset({3})\n",
    "C = {A, B}\n",
    "print(C)\n",
    "print(C != {frozenset({1,2,3})})"
   ]
  },
  {
   "cell_type": "code",
   "execution_count": 13,
   "id": "03990c58-29b7-4479-aae4-8ed9270a5df3",
   "metadata": {},
   "outputs": [
    {
     "name": "stdout",
     "output_type": "stream",
     "text": [
      "{(1, 3), (1, 2), (2,), (1, 2, 3), (2, 3), (1,), (), (3,)}\n"
     ]
    }
   ],
   "source": [
    "#Exercisse 2.1\n",
    "#Find the subsets of set A\n",
    "from itertools import chain, combinations\n",
    "def powerset(iterable):\n",
    "    \"powerset([1,2,3]) --> () (1,) (2,) (3,) (1,2) (1,3) (2,3) (1,2,3)\"\n",
    "    s = list(iterable)\n",
    "    return chain.from_iterable(combinations(s, r) for r in range(len(s)+1))\n",
    "\n",
    "A = {1,2,3}\n",
    "print(set(powerset(A)))"
   ]
  }
 ],
 "metadata": {
  "kernelspec": {
   "display_name": "Python 3 (ipykernel)",
   "language": "python",
   "name": "python3"
  },
  "language_info": {
   "codemirror_mode": {
    "name": "ipython",
    "version": 3
   },
   "file_extension": ".py",
   "mimetype": "text/x-python",
   "name": "python",
   "nbconvert_exporter": "python",
   "pygments_lexer": "ipython3",
   "version": "3.8.10"
  }
 },
 "nbformat": 4,
 "nbformat_minor": 5
}
